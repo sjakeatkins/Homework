{
 "cells": [
  {
   "cell_type": "markdown",
   "metadata": {},
   "source": [
    "# MEGN 570 HW 4 - Charge Transfer Modeling\n",
    "\n",
    "We will model charge transfer at an SOFC anode, where O$^{2-}$ in the electrolyte reacts with 2 hydrogen atoms adsorbed on a Ni surface (H$_{\\rm Ni(s)}$) to form adsorbed water (H$_2$O$_{\\rm Ni(s)}$) and electrons in the Ni (e$^-_{\\rm Ni}$).\n",
    "\n",
    "$$\\mathrm{O^{2-}_{elyte} + 2\\,H_{Ni(s)} \\leftrightarrows \\left[\\,\\right]_{elyte} + H_2O_{Ni(s)} + 2\\,e^-_{Ni}  }$$\n",
    "\n",
    "where $\\left[\\,\\right]_{\\rm elyte}$ is a vacancy in the ceramic electrolyte crystal lattice, where the oxide formerly resided.  For this reaction, the standard concentration for the Ni surface is the total site density, $C^\\circ_{\\rm Ni(s)} = \\Gamma_{\\rm Ni(s)} = 2.6e-08\\,\\frac{\\rm kmol}{m^2}$, and for the electrolyte it is the total concentration of crystal unit cells which can hold an oxide or a vacancy: $C_{\\rm elyte}^\\circ = 46.05\n",
    ",\\frac{\\rm kmol}{\\rm m^3}$\n",
    "\n",
    "The species thermo and forward rate coefficient are provided for you.\n",
    "\n",
    "## Part 1:  Elementary mass action kinetics.\n",
    "\n",
    "Calculate the current density as a function of the electric potential, using elementary mass-action kinetics.  The only requirement is that you provide an equation for `i_elementary[i]`, which calculates the current density (A m%^{-2}$) for each electric potential value.  How you get to that value is up to you.\n",
    "\n",
    "The actual answers are plotted with your equation, to verify.  \n",
    "\n",
    "Note that we define positive current as positive charge moving _to_ the electrode, and the electric potential as $\\Delta \\phi = \\phi_{\\rm an} - \\phi_{\\rm elyte}$.  As we are sweeping from $\\delta \\phi=0$ to $\\Delta \\phi = -1$, should the current get more positive or more negative?\n",
    "\n",
    "Assume the following conditions:\n",
    "\n",
    "- $X_{\\rm H_{Ni(s)}} = 0.6$\n",
    "- $X_{\\rm H_2O_{Ni(s)}} = 0.2$\n",
    "- $X_{\\rm O^{2-}_{elyte}} = 0.08$\n",
    "- $T = 800^\\circ$ C\n",
    "\n",
    "Note that all crystal lattices in the electrolyte contain either one oxide or one vacancy.\n",
    "\n",
    "The $k_{\\rm fwd}$ value given below is in units that will results in a current given in A m$^{-2}$.\n",
    "\n",
    "### Import modules:"
   ]
  },
  {
   "cell_type": "code",
   "execution_count": 3,
   "metadata": {},
   "outputs": [],
   "source": [
    "import numpy as np\n",
    "from matplotlib import pyplot as plt\n",
    "from math import exp, log"
   ]
  },
  {
   "cell_type": "markdown",
   "metadata": {},
   "source": [
    "### Givens"
   ]
  },
  {
   "cell_type": "code",
   "execution_count": 66,
   "metadata": {},
   "outputs": [],
   "source": [
    "F = 96485e3    # Faraday's constant, C/kmol equivalent charge\n",
    "R = 8314.5     # Gas constant, J/kmol-K\n",
    "T = 1073\n",
    "\n",
    "k_fwd_star = 4.16307062e+7 # Chemical forward rate constant, m^5/kmol^2/s\n",
    "\n",
    "C_elyte = 46.05    # Total (reference) elyte concentration, kmol/m3\n",
    "C_Ni_s = 2.6e-08   # Total (reference) concentration of Ni surface sites, kmol/m2\n",
    "\n",
    "X_H_Ni = 0.6\n",
    "X_H2O_Ni = 0.2\n",
    "X_O2_elyte = 0.08\n",
    "\n",
    "#C_o = ((C_elyte*X_O2_elyte)**-1.)*((C_elyte*(1.-X_O2_elyte))**1.)*((C_Ni_s*X_H_Ni)**-2.)*((C_Ni_s*X_H2O_Ni)**1.)\n",
    "#C_o = ((C_elyte*X_O2_elyte)**-1.)*((C_Ni_s*X_H_Ni)**-2.)*((C_Ni_s*X_H2O_Ni)**1.)\n",
    "#C_o = C_elyte*X_O2_elyte*C_elyte*(1.-X_O2_elyte)*C_Ni_s*X_H_Ni*C_Ni_s*X_H2O_Ni\n",
    "#C_o = C_Ni_s**-1\n",
    "C_o = (C_Ni_s**-1)*C_elyte**-1\n",
    "\n",
    "\n",
    "C_react = (C_elyte*X_O2_elyte)*((C_Ni_s*X_H_Ni)**2.)\n",
    "C_prod = (C_elyte*(1.-X_O2_elyte))*C_Ni_s*X_H2O_Ni\n",
    "\n",
    "#JUST THE SURFACE??\n",
    "#C_o = ((C_Ni_s*X_H_Ni)**-2.)*((C_Ni_s*X_H2O_Ni)**1.)\n",
    "#C_react = (C_Ni_s*X_H_Ni)**2.\n",
    "#C_prod = C_Ni_s*X_H2O_Ni\n",
    "\n",
    "\"Species standard-state thermo\"\n",
    "g_H_Ni_o = -7.109209e+07      # standard-state gibbs energy for H adsorbed on Ni surface (J/kmol)\n",
    "g_H2O_Ni_o = -3.97403035e+08  # standard-state gibbs energy for H2O adsorbed on Ni surface (J/kmol)\n",
    "g_Vac_elyte_o = 0.0           # standard-state gibbs energy for electrolyte oxide vacancy (J/kmol)\n",
    "g_Ox_elyte_o = -2.1392135e+08 # standard-state gibbs energy for electrolyte oxide O2- (J/kmol)\n",
    "\n",
    "# Validated (i.e. correct :) results.  We will use these to check our answers:\n",
    "E_validate = np.array([-0.6, -0.54736842, -0.49473684, -0.44210526, -0.38947368,\n",
    "                       -0.33684211, -0.28421053, -0.23157895, -0.17894737, -0.12631579, \n",
    "                       -0.07368421, -0.02105263, 0.03157895, 0.08421053, 0.13684211,\n",
    "                       0.18947368, 0.24210526, 0.29473684, 0.34736842,  0.4])\n",
    "i_validate = np.array([ 2.95485459e+02,  1.67237235e+02,  9.46362111e+01,  5.35248267e+01,\n",
    "                       3.02235117e+01,  1.69788914e+01,  9.38389677e+00,  4.91133825e+00,\n",
    "                       2.07299847e+0, -7.55633401e-02, -2.24926840e+0, -5.17140421e+0,\n",
    "                       -9.81429418e+0, -1.77228325e+01, -3.15285384e+01, -5.58251789e+01,\n",
    "                       -9.86973174e+01, -1.74410404e+02, -3.08157521e+02, -5.44442230e+02])"
   ]
  },
  {
   "cell_type": "markdown",
   "metadata": {},
   "source": [
    "### Add some calculations to the following code block:"
   ]
  },
  {
   "cell_type": "code",
   "execution_count": 67,
   "metadata": {},
   "outputs": [],
   "source": [
    "\n",
    "# Loop over these delta phi = phi_anode - phi_elyte values:\n",
    "delta_phi = np.linspace(-0.6,0.4,100)\n",
    "i_elementary = np.zeros_like(delta_phi)\n",
    "delta_Grxn = g_H2O_Ni_o + g_Vac_elyte_o - 2*g_H_Ni_o - g_Ox_elyte_o\n",
    "k_rev_star = k_fwd_star/(C_o*exp(-delta_Grxn/R/T))\n",
    "beta = 0.5\n",
    "n = 2.\n",
    "\n",
    "for ind, E in enumerate(delta_phi):\n",
    "    \n",
    "    k_fwd = k_fwd_star*exp(-beta*n*F*delta_phi[ind]/R/T)\n",
    "    #k_rev = k_fwd/exp((-delta_Grxn - n*F*delta_phi[ind])/R/T)/C_o\n",
    "    k_rev = k_rev_star*exp((1.-beta)*n*F*delta_phi[ind]/R/T)\n",
    "    i_elementary[ind] = n*F*(k_fwd*C_react - k_rev*C_prod)\n"
   ]
  },
  {
   "cell_type": "markdown",
   "metadata": {},
   "source": [
    "Plot the results:"
   ]
  },
  {
   "cell_type": "code",
   "execution_count": 83,
   "metadata": {},
   "outputs": [
    {
     "data": {
      "text/plain": [
       "Text(0, 0.5, 'Current [A/m2]')"
      ]
     },
     "execution_count": 83,
     "metadata": {},
     "output_type": "execute_result"
    },
    {
     "data": {
      "image/png": "[encoded data removed]",
      "text/plain": [
       "<Figure size 432x288 with 1 Axes>"
      ]
     },
     "metadata": {
      "needs_background": "light"
     },
     "output_type": "display_data"
    }
   ],
   "source": [
    "fig1, ax1 = plt.subplots()\n",
    "ax1.plot(delta_phi,i_elementary,linewidth = 1.5,color = 'k')\n",
    "ax1.plot(E_validate,i_validate,'ro',linewidth = 1.5)\n",
    "ax1.set_xlabel('Electric Potential [V]',family='Times New Roman',fontsize=14)\n",
    "ax1.set_ylabel('Current [A/m2]',family='Times New Roman',fontsize=14)"
   ]
  },
  {
   "cell_type": "code",
   "execution_count": 69,
   "metadata": {},
   "outputs": [
    {
     "data": {
      "text/plain": [
       "Text(0, 0.5, 'Current [A/m-tpb]')"
      ]
     },
     "execution_count": 69,
     "metadata": {},
     "output_type": "execute_result"
    },
    {
     "data": {
      "image/png": "[encoded data removed]",
      "text/plain": [
       "<Figure size 432x288 with 1 Axes>"
      ]
     },
     "metadata": {
      "needs_background": "light"
     },
     "output_type": "display_data"
    }
   ],
   "source": [
    "fig1, ax1 = plt.subplots()\n",
    "ax1.semilogy(delta_phi,abs(i_elementary),linewidth = 1.5,color = 'k')\n",
    "ax1.semilogy(E_validate,abs(i_validate),'ro',linewidth = 1.5)\n",
    "ax1.set_xlabel('Electric Potential [V]',family='Times New Roman',fontsize=14)\n",
    "ax1.set_ylabel('Current [A/m-tpb]',family='Times New Roman',fontsize=14)"
   ]
  },
  {
   "cell_type": "markdown",
   "metadata": {},
   "source": [
    "### Discussion:\n",
    "\n",
    "Add some text to _THIS MARKDOWN BLOCK_ to discuss the plots above.  \n",
    "\n",
    "Do they make sense, and match with your understanding of the theory?  In what ways? Do they match the validatiopn data?  If not, what might be missing from your code?\n",
    "\n",
    "The discrepancy here is likely due to my improperly handling the activity concentrations for surface species.  The species in the electrolyte has activity concentrations in units of kmol/m^3, while the species on the Ni surface has activity concentrations in units of kmol/m^2.  But I also think I might be mishandling standard concentrations in the variable I've defined as C_o.  I'll look at your solution to see where I've gone wrong."
   ]
  },
  {
   "cell_type": "markdown",
   "metadata": {},
   "source": [
    "## ii. Part 2: Butler-Volmer kinetics  \n",
    "\n",
    "Now use your derivation to calculate $i_\\circ$ as a function of your elementary kinetic parameters, and then calculate the currents for the same range of potentials.\n",
    "\n",
    "Add some code to the block below:"
   ]
  },
  {
   "cell_type": "code",
   "execution_count": 80,
   "metadata": {},
   "outputs": [],
   "source": [
    "i_BV = np.zeros_like(delta_phi)\n",
    "act_prod = (X_H_Ni**-2)*X_H2O_Ni*(X_O2_elyte**-1)*(1-X_O2_elyte)**1\n",
    "i_o = n*F*(k_fwd_star**(1-beta))*(k_rev_star**beta)*(C_react**(1-beta))*(C_prod**beta)\n",
    "\n",
    "for ind, E in enumerate(delta_phi):\n",
    "\n",
    "    delta_phi_eq = -(delta_Grxn + R*T*log(act_prod))/n/F\n",
    "    eta = delta_phi[ind] - delta_phi_eq\n",
    "    i_BV[ind] = i_o*(exp(-beta*n*F*eta/R/T) - exp((1-beta)*n*F*eta/R/T))"
   ]
  },
  {
   "cell_type": "markdown",
   "metadata": {},
   "source": [
    "#### Let's plot the BV and Marcus currents together:"
   ]
  },
  {
   "cell_type": "code",
   "execution_count": 81,
   "metadata": {},
   "outputs": [
    {
     "data": {
      "image/png": "[encoded data removed]",
      "text/plain": [
       "<Figure size 432x288 with 1 Axes>"
      ]
     },
     "metadata": {
      "needs_background": "light"
     },
     "output_type": "display_data"
    }
   ],
   "source": [
    "plt.close('all')\n",
    "plt.plot(delta_phi,i_elementary,linewidth = 1.5,color = 'k');\n",
    "plt.plot(delta_phi,i_BV,'ro',markerfacecolor='none');\n",
    "plt.xlabel('Electric Potential [V]',family='Times New Roman',fontsize=14)\n",
    "plt.ylabel('Current [A/m2]',family='Times New Roman',fontsize=14)\n",
    "plt.legend(['Mass Action','Butler Volmer'],frameon=False)\n",
    "plt.show()"
   ]
  },
  {
   "cell_type": "markdown",
   "metadata": {},
   "source": [
    "#### Discussion:\n",
    "\n",
    "Discuss your plots.  Make new plots, as desired, to aid in your discussion and highlight noteworthy results.\n",
    "\n",
    "How do you feel about the assumption of constant $i_\\circ$?  Are there situations where this is _not_ a good assumption?\n",
    "\n",
    "Add your thoughts to _THIS MARKDOWN BLOCK_"
   ]
  },
  {
   "cell_type": "markdown",
   "metadata": {},
   "source": [
    "### C. Tafel current\n",
    "\n",
    "We can re-use the same parameters ($i_\\circ$, $\\beta$, etc.) from the Butler-Volmer expression to calculate the current using the Tafel approximation:"
   ]
  },
  {
   "cell_type": "code",
   "execution_count": null,
   "metadata": {},
   "outputs": [],
   "source": [
    "i_Tafel = np.zeros_like(delta_phi)\n",
    "\n",
    "for ind, E in enumerate(delta_phi):\n",
    "    \n",
    "    i_Tafel[ind] = "
   ]
  },
  {
   "cell_type": "code",
   "execution_count": null,
   "metadata": {},
   "outputs": [],
   "source": [
    "plt.plot(delta_phi,i_elementary,linewidth = 1.5,color = 'k');\n",
    "plt.plot(delta_phi,i_BV,'o',markeredgecolor='r',markerfacecolor='none');\n",
    "plt.plot(delta_phi,i_Tafel,'x',markeredgecolor='b',markerfacecolor='none');\n",
    "plt.xlabel('Electric Potential [V]',family='Times New Roman',fontsize=14)\n",
    "plt.ylabel('Current [A/m2]',family='Times New Roman',fontsize=14)\n",
    "plt.legend(['Mass Action','Butler Volmer','Tafel'],frameon=False)\n",
    "plt.show()"
   ]
  },
  {
   "cell_type": "markdown",
   "metadata": {},
   "source": [
    "### Discussion: \n",
    "What do you notice, from these results?  What from the theory can explain what you sese.\n",
    "\n",
    "#### Play with the limits, below, to highlight trends which support your discussion claims.\n",
    "\n",
    "Feel free to copy the following code block and zoom in on different regions."
   ]
  },
  {
   "cell_type": "code",
   "execution_count": null,
   "metadata": {},
   "outputs": [],
   "source": [
    "plt.plot(delta_phi,i_elementary,linewidth = 1.5,color = 'k');\n",
    "plt.plot(delta_phi,i_BV,'o',markeredgecolor='r',markerfacecolor='none');\n",
    "plt.plot(delta_phi,i_Tafel,'x',markeredgecolor='b',markerfacecolor='none');\n",
    "plt.xlabel('Electric Potential [V]',family='Times New Roman',fontsize=14)\n",
    "plt.ylabel('Current [A/m2]',family='Times New Roman',fontsize=14)\n",
    "plt.legend(['Mass Action','Butler Volmer','Tafel'],frameon=False)\n",
    "plt.xlim((-0.6,0.6))\n",
    "plt.ylim((-100,20))\n",
    "plt.show()"
   ]
  },
  {
   "cell_type": "markdown",
   "metadata": {},
   "source": [
    "#### Space for additional discussion:\n"
   ]
  },
  {
   "cell_type": "code",
   "execution_count": null,
   "metadata": {},
   "outputs": [],
   "source": []
  }
 ],
 "metadata": {
  "kernelspec": {
   "display_name": "Python 3",
   "language": "python",
   "name": "python3"
  },
  "language_info": {
   "codemirror_mode": {
    "name": "ipython",
    "version": 3
   },
   "file_extension": ".py",
   "mimetype": "text/x-python",
   "name": "python",
   "nbconvert_exporter": "python",
   "pygments_lexer": "ipython3",
   "version": "3.8.5"
  }
 },
 "nbformat": 4,
 "nbformat_minor": 2
}
